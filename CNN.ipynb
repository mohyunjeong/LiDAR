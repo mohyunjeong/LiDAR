{
  "nbformat": 4,
  "nbformat_minor": 0,
  "metadata": {
    "colab": {
      "private_outputs": true,
      "provenance": []
    },
    "kernelspec": {
      "name": "python3",
      "display_name": "Python 3"
    },
    "language_info": {
      "name": "python"
    }
  },
  "cells": [
    {
      "cell_type": "markdown",
      "source": [
        "### ✅ 학습 목표\n",
        "- CNN으로 특성을 추출해서 손 글씨 숫자 데이터 분류"
      ],
      "metadata": {
        "id": "gneGiNQFs8tr"
      }
    },
    {
      "cell_type": "markdown",
      "source": [
        "- 📌 CNN 층\n",
        "    - Cond2D() : 특성 추출기\n",
        "    - MaxPooling2D() : 크기 축소\n",
        "    - Flatten() : 특성 이미지를 1차원으로 변환"
      ],
      "metadata": {
        "id": "tA-IGF1RtDrq"
      }
    },
    {
      "cell_type": "markdown",
      "source": [
        "- 📌 손글씨 숫자 가져오기"
      ],
      "metadata": {
        "id": "1BX2-0wvtQiA"
      }
    },
    {
      "cell_type": "code",
      "execution_count": null,
      "metadata": {
        "id": "XTfF_pW4s5B6"
      },
      "outputs": [],
      "source": [
        "from tensorflow.keras.datasets import mnist\n",
        "\n",
        "(X_train, y_train), (X_test, y_test) = mnist.load_data()\n",
        "\n",
        "X_train.shape, X_test.shape"
      ]
    },
    {
      "cell_type": "code",
      "source": [
        "import numpy as np\n",
        "import tensorflow as tf\n",
        "\n",
        "seed = 0\n",
        "\n",
        "np.random.seed(seed)\n",
        "tf.random.set_seed(seed)"
      ],
      "metadata": {
        "id": "2kchYkbwtjqC"
      },
      "execution_count": null,
      "outputs": []
    },
    {
      "cell_type": "markdown",
      "source": [
        "- 📌 데이터 전처리"
      ],
      "metadata": {
        "id": "o1QLqH0ZuMzI"
      }
    },
    {
      "cell_type": "code",
      "source": [
        "# 스케일링\n",
        "\n",
        "X_train = X_train / 255.0\n",
        "X_test = X_test / 255.0"
      ],
      "metadata": {
        "id": "kDe52UituPA0"
      },
      "execution_count": null,
      "outputs": []
    },
    {
      "cell_type": "code",
      "source": [
        "X_train.shape, X_test.shape"
      ],
      "metadata": {
        "id": "dViVDmZIuYJX"
      },
      "execution_count": null,
      "outputs": []
    },
    {
      "cell_type": "code",
      "source": [
        "# CNN에 입력으로 할려면 색상 차원이 필요 (흑백 1, 칼라 3)\n",
        "\n",
        "X_train = X_train.reshape(-1, 28, 28, 1)\n",
        "X_test = X_test.reshape(-1, 28, 28, 1)\n",
        "\n",
        "X_train.shape, X_test.shape"
      ],
      "metadata": {
        "id": "coGi3jcUulik"
      },
      "execution_count": null,
      "outputs": []
    },
    {
      "cell_type": "markdown",
      "source": [
        "- 📌 샘플링 : 일부 데이터만 이용해서 학습\n",
        "    - 중요 특성만 뽑기 때문에 데이터도 수가 적어서 잘 분류하는지 확인"
      ],
      "metadata": {
        "id": "KFx-dXonvPx6"
      }
    },
    {
      "cell_type": "code",
      "source": [
        "X_train = X_train[:3000]\n",
        "y_train = y_train[:3000]\n",
        "\n",
        "X_test = X_test[:300]\n",
        "y_test = y_test[:300]\n",
        "\n",
        "X_train.shape, X_test.shape"
      ],
      "metadata": {
        "id": "aaI8U176vPe7"
      },
      "execution_count": null,
      "outputs": []
    },
    {
      "cell_type": "markdown",
      "source": [
        "- 📌 라벨 원핫 인코딩"
      ],
      "metadata": {
        "id": "3vsGzRFnvgc7"
      }
    },
    {
      "cell_type": "code",
      "source": [
        "from tensorflow.keras.utils import to_categorical\n",
        "\n",
        "y_train_en = to_categorical(y_train)\n",
        "y_test_en = to_categorical(y_test)\n",
        "\n",
        "y_train_en.shape, y_test_en.shape"
      ],
      "metadata": {
        "id": "yJWG5cJNvjlb"
      },
      "execution_count": null,
      "outputs": []
    },
    {
      "cell_type": "markdown",
      "source": [
        "- 📌 특성 추출기 (CNN) + 분류기 (Dense) 신경망 설계"
      ],
      "metadata": {
        "id": "sdl3TRDPwU5G"
      }
    },
    {
      "cell_type": "code",
      "source": [
        "from tensorflow.keras.models import Sequential\n",
        "from tensorflow.keras.layers import Conv2D, MaxPooling2D, Flatten, Dense\n",
        "\n",
        "model1 = Sequential()\n",
        "\n",
        "# 특성 추출기\n",
        "model1.add(Conv2D(filters = 32, kernel_size = (3, 3), activation='relu', input_shape=(28, 28, 1)))\n",
        "model1.add(Conv2D(filters = 64, kernel_size = (3, 3), activation='relu'))\n",
        "\n",
        "# 특성 이미지 축소\n",
        "model1.add(MaxPooling2D(pool_size=(2, 2)))\n",
        "\n",
        "# 특성 이미지를 1차원으로 변환\n",
        "model1.add(Flatten())\n",
        "\n",
        "# 분류기\n",
        "model1.add(Dense(units = 512, activation='relu'))\n",
        "model1.add(Dense(units = 10, activation = 'softmax'))\n",
        "\n",
        "model1.summary()"
      ],
      "metadata": {
        "id": "rELYXzdPwbY_"
      },
      "execution_count": null,
      "outputs": []
    },
    {
      "cell_type": "code",
      "source": [
        "model1.compile(optimizer='adam', loss='categorical_crossentropy', metrics=['accuracy'])"
      ],
      "metadata": {
        "id": "CbxxwDhW2Gh1"
      },
      "execution_count": null,
      "outputs": []
    },
    {
      "cell_type": "markdown",
      "source": [
        "- 📌 베스트 모델 저장, 학습 중단 기능 추가"
      ],
      "metadata": {
        "id": "ratV8q8t2C6N"
      }
    },
    {
      "cell_type": "code",
      "source": [
        "from google.colab import drive\n",
        "\n",
        "drive.mount('/content/drive')"
      ],
      "metadata": {
        "id": "NXCPuD7n2sM7"
      },
      "execution_count": null,
      "outputs": []
    },
    {
      "cell_type": "code",
      "source": [
        "%cd /content/drive/MyDrive/Colab Notebooks/Deep Learning"
      ],
      "metadata": {
        "id": "B-oxQop42zER"
      },
      "execution_count": null,
      "outputs": []
    },
    {
      "cell_type": "code",
      "source": [
        "from tensorflow.keras.callbacks import ModelCheckpoint, EarlyStopping\n",
        "\n",
        "file_name = \"./model/model_cnn_{epoch:02d}_{loss:.3f}_{val_loss:.3f}.hdf5\"\n",
        "\n",
        "mc = ModelCheckpoint(file_name, monitor='val_loss', verbose=1, save_best_only=True)\n",
        "\n",
        "es = EarlyStopping(monitor='val_loss', patience=5)\n",
        "\n",
        "h1 = model1.fit(X_train, y_train_en, epochs=30, batch_size = 32, validation_data=(X_test, y_test_en), callbacks=[mc, es])"
      ],
      "metadata": {
        "id": "0ZobRU-j2e54"
      },
      "execution_count": null,
      "outputs": []
    },
    {
      "cell_type": "code",
      "source": [
        "import matplotlib.pyplot as plt\n",
        "\n",
        "plt.plot(h1.history['accuracy'], label=\"train\")\n",
        "plt.plot(h1.history['val_accuracy'], label=\"test\")\n",
        "\n",
        "plt.legend()\n",
        "plt.show()\n",
        "\n",
        "plt.plot(h1.history['loss'], label=\"train\")\n",
        "plt.plot(h1.history['val_loss'], label=\"test\")\n",
        "\n",
        "plt.legend()\n",
        "plt.show()"
      ],
      "metadata": {
        "id": "Swh8ATNt4KfP"
      },
      "execution_count": null,
      "outputs": []
    },
    {
      "cell_type": "code",
      "source": [
        "# 이미지 불러오기\n",
        "\n",
        "import PIL.Image as pimg\n",
        "import numpy as np\n",
        "import matplotlib.pyplot as plt\n",
        "\n",
        "img = pimg.open('./data/2.png').convert('L')\n",
        "# convert('L') : 컬러 -> 흑백 이미지로 변환\n",
        "\n",
        "plt.imshow(img, cmap = \"gray\")\n",
        "plt.show()"
      ],
      "metadata": {
        "id": "SFwI-FXTLbLZ"
      },
      "execution_count": null,
      "outputs": []
    },
    {
      "cell_type": "code",
      "source": [
        "img = np.array(img)\n",
        "\n",
        "img.shape"
      ],
      "metadata": {
        "id": "D8JuceEzO97D"
      },
      "execution_count": null,
      "outputs": []
    },
    {
      "cell_type": "code",
      "source": [
        "# testimg = img.reshape(-1, 28*28)\n",
        "\n",
        "testimg = img.reshape(-1, 28, 28, 1)\n",
        "\n",
        "testimg.shape"
      ],
      "metadata": {
        "id": "BWCZlJNIPRIA"
      },
      "execution_count": null,
      "outputs": []
    },
    {
      "cell_type": "code",
      "source": [
        "testimg = testimg / 255.0\n",
        "testimg"
      ],
      "metadata": {
        "id": "TWZSkEQyQ9YU"
      },
      "execution_count": null,
      "outputs": []
    },
    {
      "cell_type": "code",
      "source": [
        "pred = model1.predict(testimg)\n",
        "\n",
        "print(pred)\n",
        "print(pred.argmax())"
      ],
      "metadata": {
        "id": "efsQdIuVT7kf"
      },
      "execution_count": null,
      "outputs": []
    }
  ]
}